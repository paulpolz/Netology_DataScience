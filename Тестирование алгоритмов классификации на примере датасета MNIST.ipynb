{
 "cells": [
  {
   "cell_type": "markdown",
   "metadata": {},
   "source": [
    "### Тестирование алгоритмов классификации, подбор параметров и сравнение качества"
   ]
  },
  {
   "cell_type": "markdown",
   "metadata": {},
   "source": [
    "### Загрузка и подготовка данных"
   ]
  },
  {
   "cell_type": "code",
   "execution_count": 81,
   "metadata": {
    "ExecuteTime": {
     "end_time": "2020-07-21T11:58:21.732822Z",
     "start_time": "2020-07-21T11:58:20.938382Z"
    }
   },
   "outputs": [],
   "source": [
    "import numpy as np\n",
    "import pandas as pd\n",
    "import matplotlib.pyplot as plt\n",
    "from sklearn.datasets import load_digits"
   ]
  },
  {
   "cell_type": "code",
   "execution_count": 3,
   "metadata": {
    "ExecuteTime": {
     "end_time": "2020-07-21T10:05:17.849373Z",
     "start_time": "2020-07-21T10:05:17.523378Z"
    }
   },
   "outputs": [],
   "source": [
    "data = load_digits()"
   ]
  },
  {
   "cell_type": "code",
   "execution_count": 4,
   "metadata": {
    "ExecuteTime": {
     "end_time": "2020-07-21T10:05:17.887297Z",
     "start_time": "2020-07-21T10:05:17.874640Z"
    }
   },
   "outputs": [],
   "source": [
    "X, y = data['data'], data['target']"
   ]
  },
  {
   "cell_type": "code",
   "execution_count": 5,
   "metadata": {
    "ExecuteTime": {
     "end_time": "2020-07-21T10:05:29.599158Z",
     "start_time": "2020-07-21T10:05:18.147509Z"
    }
   },
   "outputs": [
    {
     "data": {
      "image/png": "[encoded data removed]",
      "text/plain": [
       "<Figure size 1152x1152 with 16 Axes>"
      ]
     },
     "metadata": {
      "needs_background": "light"
     },
     "output_type": "display_data"
    }
   ],
   "source": [
    "fig = plt.figure(figsize=(16,16))\n",
    "for i in range(0, 4):\n",
    "    for j in range(0,4):\n",
    "        img = np.random.choice(len(X))\n",
    "        plt.subplot(4, 4, i * 4 + j + 1)\n",
    "        plt.imshow(X[img].reshape(8, 8), cmap='gray')\n",
    "        plt.title(y[img])\n",
    "        \n",
    "plt.show()\n"
   ]
  },
  {
   "cell_type": "markdown",
   "metadata": {},
   "source": [
    "###### Разделение датасета на обучающую выборки и выборку для финальной валидации"
   ]
  },
  {
   "cell_type": "code",
   "execution_count": 34,
   "metadata": {
    "ExecuteTime": {
     "end_time": "2020-07-21T10:47:28.363506Z",
     "start_time": "2020-07-21T10:47:28.357266Z"
    }
   },
   "outputs": [],
   "source": [
    "X_train, X_valid, y_train, y_valid = train_test_split(X, y, test_size=0.2)"
   ]
  },
  {
   "cell_type": "code",
   "execution_count": 7,
   "metadata": {
    "ExecuteTime": {
     "end_time": "2020-07-21T10:05:29.660875Z",
     "start_time": "2020-07-21T10:05:29.645847Z"
    }
   },
   "outputs": [],
   "source": [
    "from sklearn.preprocessing import StandardScaler"
   ]
  },
  {
   "cell_type": "code",
   "execution_count": 8,
   "metadata": {
    "ExecuteTime": {
     "end_time": "2020-07-21T10:05:29.721165Z",
     "start_time": "2020-07-21T10:05:29.682475Z"
    }
   },
   "outputs": [],
   "source": [
    "sc = StandardScaler()\n",
    "X_train = sc.fit_transform(X_train)\n",
    "X_valid = sc.transform(X_valid)"
   ]
  },
  {
   "cell_type": "code",
   "execution_count": 11,
   "metadata": {
    "ExecuteTime": {
     "end_time": "2020-07-21T10:06:36.976190Z",
     "start_time": "2020-07-21T10:06:36.970910Z"
    }
   },
   "outputs": [],
   "source": [
    "from sklearn.model_selection import GridSearchCV\n",
    "from sklearn.model_selection import RandomizedSearchCV"
   ]
  },
  {
   "cell_type": "markdown",
   "metadata": {},
   "source": [
    "###### Разделение обучающей выборки на обучение и тест"
   ]
  },
  {
   "cell_type": "code",
   "execution_count": 35,
   "metadata": {
    "ExecuteTime": {
     "end_time": "2020-07-21T10:47:31.391001Z",
     "start_time": "2020-07-21T10:47:31.380127Z"
    }
   },
   "outputs": [],
   "source": [
    "X_train, X_test, y_train, y_test = train_test_split(X_train, y_train, test_size=0.2)"
   ]
  },
  {
   "cell_type": "markdown",
   "metadata": {},
   "source": [
    "### Обучение\n",
    "Подбор параметров + оценка точности (по метрике accuracy)"
   ]
  },
  {
   "cell_type": "markdown",
   "metadata": {},
   "source": [
    "###### SGDClassifier"
   ]
  },
  {
   "cell_type": "code",
   "execution_count": 88,
   "metadata": {
    "ExecuteTime": {
     "end_time": "2020-07-21T08:01:50.271876Z",
     "start_time": "2020-07-21T08:01:41.029079Z"
    }
   },
   "outputs": [
    {
     "data": {
      "text/plain": [
       "{'loss': 'hinge', 'max_iter': 1500, 'penalty': 'l1'}"
      ]
     },
     "execution_count": 88,
     "metadata": {},
     "output_type": "execute_result"
    }
   ],
   "source": [
    "from sklearn.linear_model import SGDClassifier\n",
    "\n",
    "SGD_cl = SGDClassifier(n_jobs=-1)\n",
    "\n",
    "grid_param = {\n",
    "    'loss': ['hinge', 'log', 'modified_huber'],\n",
    "    'max_iter': [500, 1000, 1500, 2000],\n",
    "    'penalty': ['l2', 'l1']\n",
    "}\n",
    "\n",
    "gs_sgd = GridSearchCV(estimator=SGD_cl,\n",
    "                     param_grid=grid_param, # Проверяем гиперпарметры\n",
    "                     cv=5,\n",
    "                     n_jobs=-1)\n",
    "\n",
    "gs_sgd.fit(X_train, y_train)\n",
    "gs_sgd.best_params_"
   ]
  },
  {
   "cell_type": "code",
   "execution_count": 42,
   "metadata": {
    "ExecuteTime": {
     "end_time": "2020-07-21T10:51:12.469994Z",
     "start_time": "2020-07-21T10:51:12.459755Z"
    }
   },
   "outputs": [
    {
     "data": {
      "text/plain": [
       "0.9618055555555556"
      ]
     },
     "execution_count": 42,
     "metadata": {},
     "output_type": "execute_result"
    }
   ],
   "source": [
    "from sklearn.metrics import accuracy_score\n",
    "accuracy_score(y_test, gs_sgd.best_estimator_.predict(X_test))"
   ]
  },
  {
   "cell_type": "markdown",
   "metadata": {},
   "source": [
    "###### KNeighborsClassifier"
   ]
  },
  {
   "cell_type": "code",
   "execution_count": 12,
   "metadata": {
    "ExecuteTime": {
     "end_time": "2020-07-21T10:07:14.035150Z",
     "start_time": "2020-07-21T10:06:48.096369Z"
    }
   },
   "outputs": [
    {
     "data": {
      "text/plain": [
       "{'algorithm': 'kd_tree',\n",
       " 'metric': 'manhattan',\n",
       " 'n_neighbors': 3,\n",
       " 'weights': 'distance'}"
      ]
     },
     "execution_count": 12,
     "metadata": {},
     "output_type": "execute_result"
    }
   ],
   "source": [
    "from sklearn.neighbors import KNeighborsClassifier\n",
    "\n",
    "KNC = KNeighborsClassifier(n_jobs=-1)\n",
    "\n",
    "grid_param = {\n",
    "    'metric': ['euclidean', 'manhattan', 'minkowski'],\n",
    "    'algorithm': ['kd_tree', 'ball_tree', 'brute'],\n",
    "    'n_neighbors': [3,5,7,10,20],\n",
    "    'weights': ['uniform','distance']\n",
    "}\n",
    "\n",
    "gs_knc = GridSearchCV(estimator=KNC,\n",
    "                     param_grid=grid_param, # Проверяем гиперпарметры\n",
    "                     cv=5,\n",
    "                     n_jobs=-1)\n",
    "\n",
    "gs_knc.fit(X_train, y_train)\n",
    "gs_knc.best_params_"
   ]
  },
  {
   "cell_type": "code",
   "execution_count": 45,
   "metadata": {
    "ExecuteTime": {
     "end_time": "2020-07-21T10:52:29.987499Z",
     "start_time": "2020-07-21T10:52:29.918556Z"
    }
   },
   "outputs": [
    {
     "data": {
      "text/plain": [
       "0.9791666666666666"
      ]
     },
     "execution_count": 45,
     "metadata": {},
     "output_type": "execute_result"
    }
   ],
   "source": [
    "accuracy_score(y_test, gs_knc.best_estimator_.predict(X_test))"
   ]
  },
  {
   "cell_type": "markdown",
   "metadata": {},
   "source": [
    "###### GradientBoostingClassifier"
   ]
  },
  {
   "cell_type": "code",
   "execution_count": 47,
   "metadata": {
    "ExecuteTime": {
     "end_time": "2020-07-21T10:53:52.790838Z",
     "start_time": "2020-07-21T10:53:52.783352Z"
    }
   },
   "outputs": [
    {
     "data": {
      "text/plain": [
       "{'n_estimators': 300, 'max_depth': 3, 'loss': 'deviance'}"
      ]
     },
     "execution_count": 47,
     "metadata": {},
     "output_type": "execute_result"
    }
   ],
   "source": [
    "from sklearn.ensemble import GradientBoostingClassifier\n",
    "\n",
    "GB_cl = GradientBoostingClassifier()\n",
    "\n",
    "grid_param = {\n",
    "    'loss': ['deviance', 'exponential'],\n",
    "    'n_estimators': [50,300],\n",
    "    #'criterion': ['friedman_mse','mse','mae'],\n",
    "    'max_depth': [3,40]\n",
    "}\n",
    "\n",
    "rs_gb = RandomizedSearchCV(estimator=GB_cl,\n",
    "                     param_distributions=grid_param, # Проверяем гиперпарметры\n",
    "                     cv=5)\n",
    "\n",
    "rs_gb.fit(X_train, y_train)\n",
    "rs_gb.best_params_"
   ]
  },
  {
   "cell_type": "code",
   "execution_count": 57,
   "metadata": {
    "ExecuteTime": {
     "end_time": "2020-07-21T10:58:13.465754Z",
     "start_time": "2020-07-21T10:58:13.395494Z"
    }
   },
   "outputs": [
    {
     "data": {
      "text/plain": [
       "0.9444444444444444"
      ]
     },
     "execution_count": 57,
     "metadata": {},
     "output_type": "execute_result"
    }
   ],
   "source": [
    "accuracy_score(y_test, rs_gb.predict(X_test))"
   ]
  },
  {
   "cell_type": "markdown",
   "metadata": {},
   "source": [
    "###### DecisionTreeClassifier"
   ]
  },
  {
   "cell_type": "code",
   "execution_count": 77,
   "metadata": {
    "ExecuteTime": {
     "end_time": "2020-07-21T11:10:03.169568Z",
     "start_time": "2020-07-21T11:09:54.462360Z"
    }
   },
   "outputs": [
    {
     "data": {
      "text/plain": [
       "{'max_depth': 10,\n",
       " 'max_features': 50,\n",
       " 'max_leaf_nodes': 200,\n",
       " 'min_samples_leaf': 5}"
      ]
     },
     "execution_count": 77,
     "metadata": {},
     "output_type": "execute_result"
    }
   ],
   "source": [
    "from sklearn.tree import DecisionTreeClassifier\n",
    "\n",
    "dtc_cl=DecisionTreeClassifier()\n",
    "\n",
    "grid_param = {\n",
    "    'max_depth': [10, 20, 50],\n",
    "    'max_features': [20, 50, 100],\n",
    "    'max_leaf_nodes': [50, 100, 200, 300],\n",
    "    'min_samples_leaf': [5,25,50]\n",
    "}\n",
    "\n",
    "gd_dtc = GridSearchCV(estimator=dtc_cl,\n",
    "                     param_grid=grid_param, # Проверяем гиперпарметры\n",
    "                     cv=5,\n",
    "                     n_jobs=-1\n",
    "                    )\n",
    "\n",
    "gd_dtc.fit(X_train, y_train)\n",
    "gd_dtc.best_params_"
   ]
  },
  {
   "cell_type": "code",
   "execution_count": 78,
   "metadata": {
    "ExecuteTime": {
     "end_time": "2020-07-21T11:10:03.192681Z",
     "start_time": "2020-07-21T11:10:03.178603Z"
    }
   },
   "outputs": [
    {
     "data": {
      "text/plain": [
       "0.8645833333333334"
      ]
     },
     "execution_count": 78,
     "metadata": {},
     "output_type": "execute_result"
    }
   ],
   "source": [
    "accuracy_score(y_test, gd_dtc.best_estimator_.predict(X_test))"
   ]
  },
  {
   "cell_type": "markdown",
   "metadata": {},
   "source": [
    "##### Наиболее высокий уровень точности показал метод K ближайших соседей (Accuracy=97%). Дополнительно максимизировать качество можно через голосование сформированных алгоритмов"
   ]
  },
  {
   "cell_type": "code",
   "execution_count": 79,
   "metadata": {
    "ExecuteTime": {
     "end_time": "2020-07-21T11:11:36.615650Z",
     "start_time": "2020-07-21T11:11:06.419608Z"
    }
   },
   "outputs": [
    {
     "data": {
      "text/plain": [
       "0.9826388888888888"
      ]
     },
     "execution_count": 79,
     "metadata": {},
     "output_type": "execute_result"
    }
   ],
   "source": [
    "from sklearn.ensemble import VotingClassifier\n",
    "\n",
    "V_cl = VotingClassifier(estimators=[('SGD', gs_sgd),('KNC', gs_knc),\n",
    "                                      ('GB_cl', rs_gb),('DTC_cl', gd_dtc.best_estimator_)], n_jobs=-1)\n",
    "V_cl.fit(X_train, y_train)\n",
    "accuracy_score(y_test, V_cl.predict(X_test))"
   ]
  },
  {
   "cell_type": "code",
   "execution_count": 84,
   "metadata": {
    "ExecuteTime": {
     "end_time": "2020-07-21T13:52:28.089931Z",
     "start_time": "2020-07-21T13:52:28.081685Z"
    }
   },
   "outputs": [
    {
     "name": "stdout",
     "output_type": "stream",
     "text": [
      "Финальный результат на отложенной выборке: 0.96\n"
     ]
    }
   ],
   "source": [
    "print('Финальный результат на отложенной выборке: {:.2f}'.format(accuracy_score(y_valid, gs_sgd.predict(X_valid))))"
   ]
  }
 ],
 "metadata": {
  "kernelspec": {
   "display_name": "Python 3",
   "language": "python",
   "name": "python3"
  },
  "language_info": {
   "codemirror_mode": {
    "name": "ipython",
    "version": 3
   },
   "file_extension": ".py",
   "mimetype": "text/x-python",
   "name": "python",
   "nbconvert_exporter": "python",
   "pygments_lexer": "ipython3",
   "version": "3.8.1"
  }
 },
 "nbformat": 4,
 "nbformat_minor": 4
}
